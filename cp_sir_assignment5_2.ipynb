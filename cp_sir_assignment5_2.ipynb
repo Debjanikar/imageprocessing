{
 "cells": [
  {
   "cell_type": "code",
   "execution_count": null,
   "id": "2f421bef",
   "metadata": {},
   "outputs": [],
   "source": [
    "#importing packages\n",
    "import numpy as np\n",
    "import matplotlib.pyplot as plt\n",
    "from PIL import Image, ImageOps\n",
    "from numpy import array"
   ]
  },
  {
   "cell_type": "code",
   "execution_count": null,
   "id": "8dfef5d8",
   "metadata": {},
   "outputs": [],
   "source": [
    "#creating a 6*7 integer array\n",
    "#original=np.array([[1,1,1],[1,1,1],[1,1,1]])\n",
    "original=np.random.randint(2,size=(10,15))\n",
    "print(original)"
   ]
  },
  {
   "cell_type": "code",
   "execution_count": null,
   "id": "aaf39044",
   "metadata": {},
   "outputs": [],
   "source": [
    "#creating an 1*1 integer matrix\n",
    "new=np.zeros(shape=(1,1))\n",
    "#print(\"new=\",new)\n",
    "for j in range(int(original.shape[1]/new.shape[1])):\n",
    "    i=0\n",
    "    print(\"j=\",j)\n",
    "    row_value=original[i][j]\n",
    "    print(\"row_value=\",row_value)\n",
    "    if row_value==1 and j!=0 and j!=original.shape[1]-1:\n",
    "        print(\"i=\",i)\n",
    "        print(\"j=\",j)\n",
    "        for k in range(i+1,original.shape[0]):\n",
    "            print(\"k=\",k)\n",
    "            print(\"j=\",j)\n",
    "            column_value=original[k][j]\n",
    "            print(\"column_value=\",column_value)\n",
    "            if column_value==0 and k<(original.shape[0]-1) and j<(original.shape[1]-1):\n",
    "                new=np.zeros(shape=(3,3))\n",
    "                #print(new)\n",
    "                sub1=original[k-1:(k-1)+3,j-1:(j-1)+3]\n",
    "                print(\"sub1=\",sub1)\n",
    "                if sub1[2][1]==1:\n",
    "                    original[k][j]=1\n",
    "                elif sub1[2][1]==0 and j<original.shape[1]-2 and j>=2 and k<original.shape[0]-2 and k>=2:\n",
    "                    new=np.zeros(shape=(5,5))\n",
    "                    sub2=original[k-2:(k-2)+5,j-2:(j-2)+5]\n",
    "                    print(\"sub2=\",sub2)\n",
    "                    if sub2[4][2]==1 :\n",
    "                        if (k<original.shape[0]-4) and original[k+3][j]==1:\n",
    "                            original[k][j]=1\n",
    "                    elif sub2[4][2]==0 and j<original.shape[1]-3 and j>=3 and k<original.shape[0]-3 and k>=3:\n",
    "                        new=np.zeros(shape=(7,7))\n",
    "                        sub3=original[k-3:(k-3)+7,j-3:(j-3)+7]\n",
    "                        print(\"sub3=\",sub3)\n",
    "                        if sub3[6][4]==1:\n",
    "                            if (k<original.shape[0]-5) and original[k+4][j]==1:\n",
    "                                original[k][j]=1\n",
    "            if original[k][j]==0:\n",
    "                break\n",
    "#print(original)\n",
    "for m in range(original.shape[0]):\n",
    "    for n in range(original.shape[1]):\n",
    "        if original[m][n]==1:\n",
    "            original[m][n]=255\n",
    "            \n",
    "print(original) \n",
    "\n",
    "plt.imshow(original)\n",
    "            \n",
    "    "
   ]
  },
  {
   "cell_type": "code",
   "execution_count": null,
   "id": "ee8570bf",
   "metadata": {},
   "outputs": [],
   "source": [
    "plt.imshow(original)\n"
   ]
  },
  {
   "cell_type": "code",
   "execution_count": null,
   "id": "7ff40843",
   "metadata": {},
   "outputs": [],
   "source": []
  },
  {
   "cell_type": "code",
   "execution_count": null,
   "metadata": {},
   "outputs": [],
   "source": []
  },
  {
   "cell_type": "code",
   "execution_count": null,
   "metadata": {},
   "outputs": [],
   "source": []
  },
  {
   "cell_type": "code",
   "execution_count": null,
   "metadata": {},
   "outputs": [],
   "source": []
  },
  {
   "cell_type": "code",
   "execution_count": null,
   "metadata": {},
   "outputs": [],
   "source": []
  },
  {
   "cell_type": "code",
   "execution_count": null,
   "metadata": {},
   "outputs": [],
   "source": []
  },
  {
   "cell_type": "code",
   "execution_count": null,
   "metadata": {},
   "outputs": [],
   "source": []
  },
  {
   "cell_type": "code",
   "execution_count": null,
   "metadata": {},
   "outputs": [],
   "source": []
  },
  {
   "cell_type": "code",
   "execution_count": null,
   "metadata": {},
   "outputs": [],
   "source": []
  },
  {
   "cell_type": "code",
   "execution_count": null,
   "metadata": {},
   "outputs": [],
   "source": []
  }
 ],
 "metadata": {
  "kernelspec": {
   "display_name": "Python 3",
   "language": "python",
   "name": "python3"
  },
  "language_info": {
   "codemirror_mode": {
    "name": "ipython",
    "version": 3
   },
   "file_extension": ".py",
   "mimetype": "text/x-python",
   "name": "python",
   "nbconvert_exporter": "python",
   "pygments_lexer": "ipython3",
   "version": "3.9.5"
  }
 },
 "nbformat": 4,
 "nbformat_minor": 5
}